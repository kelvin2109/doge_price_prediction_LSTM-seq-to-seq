{
 "cells": [
  {
   "cell_type": "code",
   "execution_count": 26,
   "id": "ec2e94b7",
   "metadata": {},
   "outputs": [],
   "source": [
    "import pandas as pd\n",
    "import numpy as np\n",
    "import torch.nn as nn\n",
    "import torch "
   ]
  },
  {
   "cell_type": "code",
   "execution_count": 27,
   "id": "2aacebc7",
   "metadata": {},
   "outputs": [],
   "source": [
    "doge_df = pd.read_csv('dataset/doge.csv')"
   ]
  },
  {
   "cell_type": "code",
   "execution_count": 28,
   "id": "18146f7f",
   "metadata": {},
   "outputs": [
    {
     "data": {
      "text/html": [
       "<div>\n",
       "<style scoped>\n",
       "    .dataframe tbody tr th:only-of-type {\n",
       "        vertical-align: middle;\n",
       "    }\n",
       "\n",
       "    .dataframe tbody tr th {\n",
       "        vertical-align: top;\n",
       "    }\n",
       "\n",
       "    .dataframe thead th {\n",
       "        text-align: right;\n",
       "    }\n",
       "</style>\n",
       "<table border=\"1\" class=\"dataframe\">\n",
       "  <thead>\n",
       "    <tr style=\"text-align: right;\">\n",
       "      <th></th>\n",
       "      <th>Date</th>\n",
       "      <th>Open</th>\n",
       "      <th>High</th>\n",
       "      <th>Low</th>\n",
       "      <th>Close</th>\n",
       "    </tr>\n",
       "  </thead>\n",
       "  <tbody>\n",
       "    <tr>\n",
       "      <th>0</th>\n",
       "      <td>2019-01-01</td>\n",
       "      <td>0.002319</td>\n",
       "      <td>0.002382</td>\n",
       "      <td>0.002246</td>\n",
       "      <td>0.002365</td>\n",
       "    </tr>\n",
       "    <tr>\n",
       "      <th>1</th>\n",
       "      <td>2019-01-02</td>\n",
       "      <td>0.002378</td>\n",
       "      <td>0.002407</td>\n",
       "      <td>0.002315</td>\n",
       "      <td>0.002354</td>\n",
       "    </tr>\n",
       "    <tr>\n",
       "      <th>2</th>\n",
       "      <td>2019-01-03</td>\n",
       "      <td>0.002358</td>\n",
       "      <td>0.002441</td>\n",
       "      <td>0.002268</td>\n",
       "      <td>0.002294</td>\n",
       "    </tr>\n",
       "    <tr>\n",
       "      <th>3</th>\n",
       "      <td>2019-01-04</td>\n",
       "      <td>0.002297</td>\n",
       "      <td>0.002331</td>\n",
       "      <td>0.002174</td>\n",
       "      <td>0.002270</td>\n",
       "    </tr>\n",
       "    <tr>\n",
       "      <th>4</th>\n",
       "      <td>2019-01-05</td>\n",
       "      <td>0.002292</td>\n",
       "      <td>0.002316</td>\n",
       "      <td>0.002212</td>\n",
       "      <td>0.002258</td>\n",
       "    </tr>\n",
       "  </tbody>\n",
       "</table>\n",
       "</div>"
      ],
      "text/plain": [
       "         Date      Open      High       Low     Close\n",
       "0  2019-01-01  0.002319  0.002382  0.002246  0.002365\n",
       "1  2019-01-02  0.002378  0.002407  0.002315  0.002354\n",
       "2  2019-01-03  0.002358  0.002441  0.002268  0.002294\n",
       "3  2019-01-04  0.002297  0.002331  0.002174  0.002270\n",
       "4  2019-01-05  0.002292  0.002316  0.002212  0.002258"
      ]
     },
     "execution_count": 28,
     "metadata": {},
     "output_type": "execute_result"
    }
   ],
   "source": [
    "doge_df.head()"
   ]
  },
  {
   "cell_type": "code",
   "execution_count": 29,
   "id": "39a937c6",
   "metadata": {},
   "outputs": [
    {
     "data": {
      "text/plain": [
       "(1217, 5)"
      ]
     },
     "execution_count": 29,
     "metadata": {},
     "output_type": "execute_result"
    }
   ],
   "source": [
    "doge_df.shape"
   ]
  },
  {
   "cell_type": "code",
   "execution_count": 30,
   "id": "32afc475",
   "metadata": {},
   "outputs": [],
   "source": [
    "doge_df.index = doge_df['Date']"
   ]
  },
  {
   "cell_type": "code",
   "execution_count": 31,
   "id": "2bfb62b5",
   "metadata": {},
   "outputs": [],
   "source": [
    "doge_df.index = pd.to_datetime(doge_df.index)"
   ]
  },
  {
   "cell_type": "code",
   "execution_count": 32,
   "id": "72e78114",
   "metadata": {},
   "outputs": [
    {
     "data": {
      "text/html": [
       "<div>\n",
       "<style scoped>\n",
       "    .dataframe tbody tr th:only-of-type {\n",
       "        vertical-align: middle;\n",
       "    }\n",
       "\n",
       "    .dataframe tbody tr th {\n",
       "        vertical-align: top;\n",
       "    }\n",
       "\n",
       "    .dataframe thead th {\n",
       "        text-align: right;\n",
       "    }\n",
       "</style>\n",
       "<table border=\"1\" class=\"dataframe\">\n",
       "  <thead>\n",
       "    <tr style=\"text-align: right;\">\n",
       "      <th></th>\n",
       "      <th>Close</th>\n",
       "    </tr>\n",
       "    <tr>\n",
       "      <th>Date</th>\n",
       "      <th></th>\n",
       "    </tr>\n",
       "  </thead>\n",
       "  <tbody>\n",
       "    <tr>\n",
       "      <th>2019-01-01</th>\n",
       "      <td>0.002365</td>\n",
       "    </tr>\n",
       "    <tr>\n",
       "      <th>2019-01-02</th>\n",
       "      <td>0.002354</td>\n",
       "    </tr>\n",
       "    <tr>\n",
       "      <th>2019-01-03</th>\n",
       "      <td>0.002294</td>\n",
       "    </tr>\n",
       "    <tr>\n",
       "      <th>2019-01-04</th>\n",
       "      <td>0.002270</td>\n",
       "    </tr>\n",
       "    <tr>\n",
       "      <th>2019-01-05</th>\n",
       "      <td>0.002258</td>\n",
       "    </tr>\n",
       "    <tr>\n",
       "      <th>...</th>\n",
       "      <td>...</td>\n",
       "    </tr>\n",
       "    <tr>\n",
       "      <th>2022-04-27</th>\n",
       "      <td>0.139795</td>\n",
       "    </tr>\n",
       "    <tr>\n",
       "      <th>2022-04-28</th>\n",
       "      <td>0.137574</td>\n",
       "    </tr>\n",
       "    <tr>\n",
       "      <th>2022-04-29</th>\n",
       "      <td>0.134958</td>\n",
       "    </tr>\n",
       "    <tr>\n",
       "      <th>2022-04-30</th>\n",
       "      <td>0.127417</td>\n",
       "    </tr>\n",
       "    <tr>\n",
       "      <th>2022-05-01</th>\n",
       "      <td>0.127446</td>\n",
       "    </tr>\n",
       "  </tbody>\n",
       "</table>\n",
       "<p>1217 rows × 1 columns</p>\n",
       "</div>"
      ],
      "text/plain": [
       "               Close\n",
       "Date                \n",
       "2019-01-01  0.002365\n",
       "2019-01-02  0.002354\n",
       "2019-01-03  0.002294\n",
       "2019-01-04  0.002270\n",
       "2019-01-05  0.002258\n",
       "...              ...\n",
       "2022-04-27  0.139795\n",
       "2022-04-28  0.137574\n",
       "2022-04-29  0.134958\n",
       "2022-04-30  0.127417\n",
       "2022-05-01  0.127446\n",
       "\n",
       "[1217 rows x 1 columns]"
      ]
     },
     "execution_count": 32,
     "metadata": {},
     "output_type": "execute_result"
    }
   ],
   "source": [
    "doge_df.drop(columns=['Date','Open','High','Low'])"
   ]
  },
  {
   "cell_type": "code",
   "execution_count": 33,
   "id": "0eb96b27",
   "metadata": {},
   "outputs": [],
   "source": [
    "idx = int(len(doge_df)*0.7)\n",
    "train_df = doge_df[:idx]\n",
    "test_df = doge_df[idx:]"
   ]
  },
  {
   "cell_type": "code",
   "execution_count": 34,
   "id": "e5a4cdd2",
   "metadata": {},
   "outputs": [],
   "source": [
    "train_values = train_df['Close'].values.reshape(-1,1)\n",
    "test_values = test_df['Close'].values.reshape(-1,1)"
   ]
  },
  {
   "cell_type": "markdown",
   "id": "8aa2d88b",
   "metadata": {},
   "source": [
    "# normalizing data"
   ]
  },
  {
   "cell_type": "code",
   "execution_count": 35,
   "id": "8b791316",
   "metadata": {},
   "outputs": [],
   "source": [
    "from sklearn.preprocessing import MinMaxScaler\n",
    "scaled_training = MinMaxScaler().fit_transform(train_values)\n",
    "sclaed_testing = MinMaxScaler().fit_transform(test_values)"
   ]
  },
  {
   "cell_type": "code",
   "execution_count": 45,
   "id": "0056e7e7",
   "metadata": {},
   "outputs": [],
   "source": [
    "n_past = 60\n",
    "n_future = 10\n",
    "x_train = []\n",
    "y_train = []\n",
    "x_test = []\n",
    "y_test = []"
   ]
  },
  {
   "cell_type": "code",
   "execution_count": 37,
   "id": "5b96300d",
   "metadata": {},
   "outputs": [],
   "source": [
    "for i in range(n_past,len(train_values)-n_future + 1):\n",
    "    x_train.append(scaled_training[i-n_past:i,0:train_values.shape[1]])\n",
    "    y_train.append(scaled_training[i:i+n_future,0:train_values.shape[1]])"
   ]
  },
  {
   "cell_type": "code",
   "execution_count": null,
   "id": "5f157143",
   "metadata": {},
   "outputs": [],
   "source": [
    "for i in range(n_past,len(test_values)-n_future +1):\n",
    "    x_test.append(scaled_testing[i-n_past:i,0:test_values.shape[1]])\n",
    "    y_test.append(scaled_testing[i-n_past:i,0:test_values.shape[1]])"
   ]
  },
  {
   "cell_type": "code",
   "execution_count": 38,
   "id": "c1274f8c",
   "metadata": {},
   "outputs": [],
   "source": [
    "x_train, y_train = np.array(x_train), np.array(y_train)"
   ]
  },
  {
   "cell_type": "code",
   "execution_count": 39,
   "id": "00ab322e",
   "metadata": {},
   "outputs": [
    {
     "name": "stdout",
     "output_type": "stream",
     "text": [
      "x_train shape == (782, 60, 1)\n",
      "y_train shape == (782, 10, 1)\n"
     ]
    }
   ],
   "source": [
    "print('x_train shape == {}'.format(x_train.shape))\n",
    "print('y_train shape == {}'.format(y_train.shape))"
   ]
  },
  {
   "cell_type": "markdown",
   "id": "25fcb766",
   "metadata": {},
   "source": [
    "the shape of data is(total_dataset in sequence, sequence length,input size) "
   ]
  },
  {
   "cell_type": "code",
   "execution_count": 40,
   "id": "d17e5f19",
   "metadata": {},
   "outputs": [],
   "source": [
    "device = torch.device('cuda' if torch.cuda.is_available() else 'cpu')"
   ]
  },
  {
   "cell_type": "code",
   "execution_count": 41,
   "id": "9b72ba00",
   "metadata": {},
   "outputs": [],
   "source": [
    "x_tensor = torch.from_numpy(x_train)\n",
    "y_tensor = torch.from_numpy(y_train) "
   ]
  },
  {
   "cell_type": "code",
   "execution_count": 42,
   "id": "d973bd15",
   "metadata": {},
   "outputs": [],
   "source": [
    "import model_seq2seq"
   ]
  },
  {
   "cell_type": "code",
   "execution_count": 43,
   "id": "d315315f",
   "metadata": {},
   "outputs": [],
   "source": [
    "model = model_seq2seq.lstm_seq2seq(input_size = x_tensor.size(2), hidden_size = 20, num_layers=1)\n"
   ]
  },
  {
   "cell_type": "code",
   "execution_count": 44,
   "id": "d2e678bb",
   "metadata": {
    "scrolled": true
   },
   "outputs": [
    {
     "name": "stderr",
     "output_type": "stream",
     "text": [
      "100%|██████████| 10/10 [00:09<00:00,  1.01it/s, loss=0.009]\n"
     ]
    }
   ],
   "source": [
    "loss = model.train(x_tensor.float(), y_tensor.float(), epochs= 10, target_len= y_tensor.size(1), batch_size= 30, training_prediction='recursive')"
   ]
  },
  {
   "cell_type": "code",
   "execution_count": null,
   "id": "f0caa1b7",
   "metadata": {},
   "outputs": [],
   "source": [
    "model.predict()"
   ]
  },
  {
   "cell_type": "code",
   "execution_count": null,
   "id": "4dcb8217",
   "metadata": {},
   "outputs": [],
   "source": []
  }
 ],
 "metadata": {
  "kernelspec": {
   "display_name": "Python 3 (ipykernel)",
   "language": "python",
   "name": "python3"
  },
  "language_info": {
   "codemirror_mode": {
    "name": "ipython",
    "version": 3
   },
   "file_extension": ".py",
   "mimetype": "text/x-python",
   "name": "python",
   "nbconvert_exporter": "python",
   "pygments_lexer": "ipython3",
   "version": "3.8.10"
  }
 },
 "nbformat": 4,
 "nbformat_minor": 5
}
