{
 "cells": [
  {
   "cell_type": "code",
   "execution_count": 45,
   "id": "ec2e94b7",
   "metadata": {},
   "outputs": [],
   "source": [
    "import pandas as pd\n",
    "import numpy as np\n",
    "import torch.nn as nn\n",
    "import torch \n",
    "import matplotlib.pyplot as plt"
   ]
  },
  {
   "cell_type": "code",
   "execution_count": 46,
   "id": "2aacebc7",
   "metadata": {},
   "outputs": [],
   "source": [
    "doge_df = pd.read_csv('dataset/doge.csv')"
   ]
  },
  {
   "cell_type": "code",
   "execution_count": 47,
   "id": "18146f7f",
   "metadata": {},
   "outputs": [
    {
     "data": {
      "text/html": [
       "<div>\n",
       "<style scoped>\n",
       "    .dataframe tbody tr th:only-of-type {\n",
       "        vertical-align: middle;\n",
       "    }\n",
       "\n",
       "    .dataframe tbody tr th {\n",
       "        vertical-align: top;\n",
       "    }\n",
       "\n",
       "    .dataframe thead th {\n",
       "        text-align: right;\n",
       "    }\n",
       "</style>\n",
       "<table border=\"1\" class=\"dataframe\">\n",
       "  <thead>\n",
       "    <tr style=\"text-align: right;\">\n",
       "      <th></th>\n",
       "      <th>Date</th>\n",
       "      <th>Open</th>\n",
       "      <th>High</th>\n",
       "      <th>Low</th>\n",
       "      <th>Close</th>\n",
       "    </tr>\n",
       "  </thead>\n",
       "  <tbody>\n",
       "    <tr>\n",
       "      <th>0</th>\n",
       "      <td>2019-01-01</td>\n",
       "      <td>0.002319</td>\n",
       "      <td>0.002382</td>\n",
       "      <td>0.002246</td>\n",
       "      <td>0.002365</td>\n",
       "    </tr>\n",
       "    <tr>\n",
       "      <th>1</th>\n",
       "      <td>2019-01-02</td>\n",
       "      <td>0.002378</td>\n",
       "      <td>0.002407</td>\n",
       "      <td>0.002315</td>\n",
       "      <td>0.002354</td>\n",
       "    </tr>\n",
       "    <tr>\n",
       "      <th>2</th>\n",
       "      <td>2019-01-03</td>\n",
       "      <td>0.002358</td>\n",
       "      <td>0.002441</td>\n",
       "      <td>0.002268</td>\n",
       "      <td>0.002294</td>\n",
       "    </tr>\n",
       "    <tr>\n",
       "      <th>3</th>\n",
       "      <td>2019-01-04</td>\n",
       "      <td>0.002297</td>\n",
       "      <td>0.002331</td>\n",
       "      <td>0.002174</td>\n",
       "      <td>0.002270</td>\n",
       "    </tr>\n",
       "    <tr>\n",
       "      <th>4</th>\n",
       "      <td>2019-01-05</td>\n",
       "      <td>0.002292</td>\n",
       "      <td>0.002316</td>\n",
       "      <td>0.002212</td>\n",
       "      <td>0.002258</td>\n",
       "    </tr>\n",
       "  </tbody>\n",
       "</table>\n",
       "</div>"
      ],
      "text/plain": [
       "         Date      Open      High       Low     Close\n",
       "0  2019-01-01  0.002319  0.002382  0.002246  0.002365\n",
       "1  2019-01-02  0.002378  0.002407  0.002315  0.002354\n",
       "2  2019-01-03  0.002358  0.002441  0.002268  0.002294\n",
       "3  2019-01-04  0.002297  0.002331  0.002174  0.002270\n",
       "4  2019-01-05  0.002292  0.002316  0.002212  0.002258"
      ]
     },
     "execution_count": 47,
     "metadata": {},
     "output_type": "execute_result"
    }
   ],
   "source": [
    "doge_df.head()"
   ]
  },
  {
   "cell_type": "markdown",
   "id": "6658c79e",
   "metadata": {},
   "source": [
    "# EDA"
   ]
  },
  {
   "cell_type": "code",
   "execution_count": 48,
   "id": "39a937c6",
   "metadata": {},
   "outputs": [
    {
     "data": {
      "text/plain": [
       "(1217, 5)"
      ]
     },
     "execution_count": 48,
     "metadata": {},
     "output_type": "execute_result"
    }
   ],
   "source": [
    "doge_df.shape"
   ]
  },
  {
   "cell_type": "code",
   "execution_count": 49,
   "id": "32afc475",
   "metadata": {},
   "outputs": [],
   "source": [
    "doge_df.index = doge_df['Date']"
   ]
  },
  {
   "cell_type": "code",
   "execution_count": 50,
   "id": "2bfb62b5",
   "metadata": {},
   "outputs": [],
   "source": [
    "doge_df.index = pd.to_datetime(doge_df.index)"
   ]
  },
  {
   "cell_type": "code",
   "execution_count": 51,
   "id": "72e78114",
   "metadata": {},
   "outputs": [],
   "source": [
    "doge_df.drop(columns=['Date','Open','High','Low'],inplace=True)"
   ]
  },
  {
   "cell_type": "code",
   "execution_count": 52,
   "id": "0eb96b27",
   "metadata": {},
   "outputs": [],
   "source": [
    "idx = int(len(doge_df)*0.9)\n",
    "train_df = doge_df[:idx]\n",
    "test_df = doge_df[idx:]"
   ]
  },
  {
   "cell_type": "code",
   "execution_count": 53,
   "id": "e5a4cdd2",
   "metadata": {},
   "outputs": [],
   "source": [
    "train_values = train_df['Close'].values.reshape(-1,1)\n",
    "test_values = test_df['Close'].values.reshape(-1,1)"
   ]
  },
  {
   "cell_type": "markdown",
   "id": "8aa2d88b",
   "metadata": {},
   "source": [
    "# normalizing data"
   ]
  },
  {
   "cell_type": "code",
   "execution_count": 54,
   "id": "8b791316",
   "metadata": {},
   "outputs": [],
   "source": [
    "from sklearn.preprocessing import MinMaxScaler\n",
    "scaler = MinMaxScaler(feature_range = (0,1))\n",
    "scaled_training = scaler.fit_transform(train_values)\n",
    "scaled_testing = scaler.fit_transform(test_values)"
   ]
  },
  {
   "cell_type": "code",
   "execution_count": 55,
   "id": "0056e7e7",
   "metadata": {},
   "outputs": [],
   "source": [
    "n_past = 40\n",
    "n_future = 5\n",
    "x_train = []\n",
    "y_train = []\n",
    "x_test = []\n",
    "y_test = []"
   ]
  },
  {
   "cell_type": "markdown",
   "id": "266e0281",
   "metadata": {},
   "source": [
    "# train-test split"
   ]
  },
  {
   "cell_type": "code",
   "execution_count": 56,
   "id": "5b96300d",
   "metadata": {},
   "outputs": [],
   "source": [
    "for i in range(n_past,len(train_values)-n_future + 1):\n",
    "    x_train.append(scaled_training[i-n_past:i,0:train_values.shape[1]])\n",
    "    y_train.append(scaled_training[i:i+n_future,0:train_values.shape[1]])"
   ]
  },
  {
   "cell_type": "code",
   "execution_count": 57,
   "id": "5f157143",
   "metadata": {},
   "outputs": [],
   "source": [
    "for i in range(n_past,len(test_values)-n_future +1):\n",
    "    x_test.append(scaled_testing[i-n_past:i,0:test_values.shape[1]])\n",
    "    y_test.append(scaled_testing[i:i+n_future,0:test_values.shape[1]])"
   ]
  },
  {
   "cell_type": "code",
   "execution_count": 58,
   "id": "c1274f8c",
   "metadata": {},
   "outputs": [],
   "source": [
    "x_train, y_train = np.array(x_train), np.array(y_train)\n",
    "x_test, y_test = np.array(x_test), np.array(y_test)"
   ]
  },
  {
   "cell_type": "code",
   "execution_count": 59,
   "id": "00ab322e",
   "metadata": {},
   "outputs": [
    {
     "name": "stdout",
     "output_type": "stream",
     "text": [
      "x_train shape == (1051, 40, 1)\n",
      "y_train shape == (1051, 5, 1)\n"
     ]
    }
   ],
   "source": [
    "print('x_train shape == {}'.format(x_train.shape))\n",
    "print('y_train shape == {}'.format(y_train.shape))"
   ]
  },
  {
   "cell_type": "code",
   "execution_count": 60,
   "id": "3407932b",
   "metadata": {},
   "outputs": [
    {
     "name": "stdout",
     "output_type": "stream",
     "text": [
      "x_test shape == (78, 40, 1)\n",
      "y_test shape == (78, 5, 1)\n"
     ]
    }
   ],
   "source": [
    "print('x_test shape == {}'.format(x_test.shape))\n",
    "print('y_test shape == {}'.format(y_test.shape))"
   ]
  },
  {
   "cell_type": "markdown",
   "id": "25fcb766",
   "metadata": {},
   "source": [
    "the shape of data is(total_dataset in sequence, sequence length,input size) "
   ]
  },
  {
   "cell_type": "markdown",
   "id": "0e177f75",
   "metadata": {},
   "source": [
    "for each sequence length , we only stride one new data each new sequence.\n",
    "for example sequence-1 = [0.33,0.35,0.37]\n",
    "then the next sequence is = [0.35,0.37,0.40]"
   ]
  },
  {
   "cell_type": "markdown",
   "id": "e7e50f9d",
   "metadata": {},
   "source": [
    "# training model"
   ]
  },
  {
   "cell_type": "code",
   "execution_count": 61,
   "id": "d17e5f19",
   "metadata": {},
   "outputs": [],
   "source": [
    "device = torch.device('cuda' if torch.cuda.is_available() else 'cpu')"
   ]
  },
  {
   "cell_type": "code",
   "execution_count": 62,
   "id": "9b72ba00",
   "metadata": {},
   "outputs": [],
   "source": [
    "x_tensor = torch.from_numpy(x_train)\n",
    "y_tensor = torch.from_numpy(y_train) "
   ]
  },
  {
   "cell_type": "code",
   "execution_count": 63,
   "id": "4ceeea46",
   "metadata": {},
   "outputs": [],
   "source": [
    "xtest_tensor = torch.from_numpy(x_test)\n",
    "ytest_tensor = torch.from_numpy(y_test)"
   ]
  },
  {
   "cell_type": "code",
   "execution_count": 64,
   "id": "d973bd15",
   "metadata": {},
   "outputs": [],
   "source": [
    "import model_seq2seq"
   ]
  },
  {
   "cell_type": "code",
   "execution_count": 65,
   "id": "d315315f",
   "metadata": {},
   "outputs": [],
   "source": [
    "model = model_seq2seq.lstm_seq2seq(input_size = x_tensor.size(2), hidden_size = 8, num_layers=1)\n"
   ]
  },
  {
   "cell_type": "code",
   "execution_count": 66,
   "id": "d2e678bb",
   "metadata": {
    "scrolled": true
   },
   "outputs": [
    {
     "name": "stderr",
     "output_type": "stream",
     "text": [
      "100%|██████████| 100/100 [06:36<00:00,  3.97s/it, loss=0.010]\n"
     ]
    }
   ],
   "source": [
    "loss = model.train(x_tensor.float(), y_tensor.float(), epochs= 100, target_len= y_tensor.size(1), batch_size= 5, training_prediction='teacher_forcing')"
   ]
  },
  {
   "cell_type": "code",
   "execution_count": 67,
   "id": "8a256c62",
   "metadata": {},
   "outputs": [],
   "source": [
    "result = model.predict(xtest_tensor[-1].float(),5)"
   ]
  },
  {
   "cell_type": "code",
   "execution_count": 68,
   "id": "ca9b5294",
   "metadata": {},
   "outputs": [
    {
     "data": {
      "text/plain": [
       "array([[0.42901963],\n",
       "       [0.3120301 ],\n",
       "       [0.3185643 ],\n",
       "       [0.31038696],\n",
       "       [0.3111733 ]], dtype=float32)"
      ]
     },
     "execution_count": 68,
     "metadata": {},
     "output_type": "execute_result"
    }
   ],
   "source": [
    "result"
   ]
  },
  {
   "cell_type": "markdown",
   "id": "46beb404",
   "metadata": {},
   "source": [
    "# inverse result"
   ]
  },
  {
   "cell_type": "code",
   "execution_count": 69,
   "id": "edcb90c1",
   "metadata": {},
   "outputs": [],
   "source": [
    "result = scaler.inverse_transform(result)"
   ]
  },
  {
   "cell_type": "markdown",
   "id": "665e198b",
   "metadata": {},
   "source": [
    "the reason why i add one more data-1 ahead before the predicting data is because i want the predicting data line to be connected with the test_data line"
   ]
  },
  {
   "cell_type": "code",
   "execution_count": 77,
   "id": "e9be764e",
   "metadata": {},
   "outputs": [],
   "source": [
    "predicted_df = test_df.tail(6)"
   ]
  },
  {
   "cell_type": "code",
   "execution_count": 79,
   "id": "4eb0bdee",
   "metadata": {},
   "outputs": [
    {
     "data": {
      "text/plain": [
       "array([[0.13979452],\n",
       "       [0.13757421],\n",
       "       [0.13495766],\n",
       "       [0.12741741],\n",
       "       [0.12744624]])"
      ]
     },
     "execution_count": 79,
     "metadata": {},
     "output_type": "execute_result"
    }
   ],
   "source": [
    "predicted_df.values[1:]"
   ]
  },
  {
   "cell_type": "code",
   "execution_count": 80,
   "id": "82260c8a",
   "metadata": {},
   "outputs": [],
   "source": [
    "predicted_df = predicted_df.replace(predicted_df[1:].values,result)"
   ]
  },
  {
   "cell_type": "code",
   "execution_count": 81,
   "id": "897953a2",
   "metadata": {},
   "outputs": [
    {
     "data": {
      "text/html": [
       "<div>\n",
       "<style scoped>\n",
       "    .dataframe tbody tr th:only-of-type {\n",
       "        vertical-align: middle;\n",
       "    }\n",
       "\n",
       "    .dataframe tbody tr th {\n",
       "        vertical-align: top;\n",
       "    }\n",
       "\n",
       "    .dataframe thead th {\n",
       "        text-align: right;\n",
       "    }\n",
       "</style>\n",
       "<table border=\"1\" class=\"dataframe\">\n",
       "  <thead>\n",
       "    <tr style=\"text-align: right;\">\n",
       "      <th></th>\n",
       "      <th>Close</th>\n",
       "    </tr>\n",
       "    <tr>\n",
       "      <th>Date</th>\n",
       "      <th></th>\n",
       "    </tr>\n",
       "  </thead>\n",
       "  <tbody>\n",
       "    <tr>\n",
       "      <th>2022-04-26</th>\n",
       "      <td>0.137548</td>\n",
       "    </tr>\n",
       "    <tr>\n",
       "      <th>2022-04-27</th>\n",
       "      <td>0.143039</td>\n",
       "    </tr>\n",
       "    <tr>\n",
       "      <th>2022-04-28</th>\n",
       "      <td>0.134479</td>\n",
       "    </tr>\n",
       "    <tr>\n",
       "      <th>2022-04-29</th>\n",
       "      <td>0.134957</td>\n",
       "    </tr>\n",
       "    <tr>\n",
       "      <th>2022-04-30</th>\n",
       "      <td>0.134358</td>\n",
       "    </tr>\n",
       "    <tr>\n",
       "      <th>2022-05-01</th>\n",
       "      <td>0.134416</td>\n",
       "    </tr>\n",
       "  </tbody>\n",
       "</table>\n",
       "</div>"
      ],
      "text/plain": [
       "               Close\n",
       "Date                \n",
       "2022-04-26  0.137548\n",
       "2022-04-27  0.143039\n",
       "2022-04-28  0.134479\n",
       "2022-04-29  0.134957\n",
       "2022-04-30  0.134358\n",
       "2022-05-01  0.134416"
      ]
     },
     "execution_count": 81,
     "metadata": {},
     "output_type": "execute_result"
    }
   ],
   "source": [
    "predicted_df"
   ]
  },
  {
   "cell_type": "code",
   "execution_count": 82,
   "id": "a7f7cd7e",
   "metadata": {},
   "outputs": [
    {
     "data": {
      "image/png": "[encoded data removed]",
      "text/plain": [
       "<Figure size 1200x500 with 1 Axes>"
      ]
     },
     "metadata": {
      "needs_background": "light"
     },
     "output_type": "display_data"
    }
   ],
   "source": [
    "plt.figure(figsize=(12,5),dpi=100)\n",
    "plt.plot(test_df)\n",
    "plt.plot(predicted_df)\n",
    "plt.xlabel(str('Close'))\n",
    "plt.show()"
   ]
  }
 ],
 "metadata": {
  "kernelspec": {
   "display_name": "Python 3 (ipykernel)",
   "language": "python",
   "name": "python3"
  },
  "language_info": {
   "codemirror_mode": {
    "name": "ipython",
    "version": 3
   },
   "file_extension": ".py",
   "mimetype": "text/x-python",
   "name": "python",
   "nbconvert_exporter": "python",
   "pygments_lexer": "ipython3",
   "version": "3.8.10"
  }
 },
 "nbformat": 4,
 "nbformat_minor": 5
}
